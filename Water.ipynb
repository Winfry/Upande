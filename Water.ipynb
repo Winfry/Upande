{
 "cells": [
  {
   "cell_type": "code",
   "execution_count": null,
   "metadata": {},
   "outputs": [
    {
     "ename": "",
     "evalue": "",
     "output_type": "error",
     "traceback": [
      "\u001b[1;31mFailed to start the Kernel. \n",
      "\u001b[1;31mUnable to start Kernel 'Python 3.12.1' due to a timeout waiting for the ports to get used. \n",
      "\u001b[1;31mView Jupyter <a href='command:jupyter.viewOutput'>log</a> for further details."
     ]
    }
   ],
   "source": [
    "import pytesseract\n",
    "import cv2\n",
    "from yolov5 import YOLOv5\n",
    "\n",
    "# Load YOLOv5 model\n",
    "model = YOLOv5(\"yolov5s.pt\")\n",
    "\n",
    "# Read the image\n",
    "img = cv2.imread(\"water_meter_image.jpg\")\n",
    "results = model.predict(img)\n",
    "\n",
    "# Extract the bounding box of the detected meter\n",
    "bbox = results.xywh[0]\n",
    "meter_img = img[int(bbox[1]):int(bbox[3]), int(bbox[0]):int(bbox[2])]\n",
    "\n",
    "# OCR to read the meter value\n",
    "meter_reading = pytesseract.image_to_string(meter_img, config='--psm 6')\n",
    "print(f'Meter Reading: {meter_reading}')\n"
   ]
  },
  {
   "cell_type": "code",
   "execution_count": null,
   "metadata": {},
   "outputs": [],
   "source": [
    "import albumentations as A\n",
    "from albumentations.pytorch import ToTensorV2\n",
    "\n",
    "transform = A.Compose([\n",
    "    A.RandomRotate90(),\n",
    "    A.HorizontalFlip(),\n",
    "    A.RandomBrightnessContrast(),\n",
    "    A.Resize(416, 416),\n",
    "    ToTensorV2()\n",
    "])\n",
    "\n",
    "augmented_image = transform(image=image)['image']\n"
   ]
  }
 ],
 "metadata": {
  "kernelspec": {
   "display_name": "Python 3",
   "language": "python",
   "name": "python3"
  },
  "language_info": {
   "name": "python",
   "version": "3.12.1"
  }
 },
 "nbformat": 4,
 "nbformat_minor": 2
}
